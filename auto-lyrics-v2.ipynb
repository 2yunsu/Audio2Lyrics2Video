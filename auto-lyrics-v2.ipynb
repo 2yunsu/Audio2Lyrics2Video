{
 "cells": [
  {
   "cell_type": "markdown",
   "metadata": {},
   "source": [
    "# WhisperX Audio Transcription with Gradio\n",
    "\n",
    "This notebook demonstrates how to use the WhisperX library for audio transcription with a Gradio interface. It takes a YouTube URL as input and transcribes the audio in French or English. We recommend using a Colab with a GPU runtime for better performance."
   ]
  },
  {
   "cell_type": "code",
   "execution_count": null,
   "metadata": {},
   "outputs": [],
   "source": [
    "# Install required libraries\n",
    "!pip install git+https://github.com/m-bain/whisperx.git\n",
    "!pip install youtube_dl\n",
    "!pip install gradio"
   ]
  },
  {
   "cell_type": "code",
   "execution_count": null,
   "metadata": {},
   "outputs": [],
   "source": [
    "# Import libraries\n",
    "import youtube_dl\n",
    "import gradio as gr\n",
    "from whisperx import transcribe"
   ]
  }
 ],
 "metadata": {
  "kernelspec": {
   "display_name": "Python 3",
   "language": "python",
   "name": "python3"
  },
  "language_info": {
   "codemirror_mode": {
    "name": "ipython",
    "version": 3
   },
   "file_extension": ".py",
   "mimetype": "text/x-python",
   "name": "python",
   "nbconvert_exporter": "python",
   "pygments_lexer": "ipython3",
   "version": "3.8.5"
  }
 },
 "nbformat": 4,
 "nbformat_minor": 4
}
