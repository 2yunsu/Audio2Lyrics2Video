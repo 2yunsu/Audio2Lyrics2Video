{
  "cells": [
    {
      "cell_type": "code",
      "source": [
        "!pip install git+https://github.com/openai/whisper.git\n",
        "!pip install yt-dlp\n",
        "!pip install gradio\n",
        "\n",
        "import gradio as gr\n",
        "import subprocess\n",
        "import os\n",
        "\n",
        "def download_and_transcribe(urls):\n",
        "    messages = []  # Collect messages to update the interface\n",
        "    urls = urls.strip().split('\\n')  # Split input into separate URLs\n",
        "    audio_counter = 1  # Counter to name audio files sequentially\n",
        "    for url in urls:\n",
        "        if url.strip():  # Ensure the URL is not just empty spaces\n",
        "            audio_filename = f\"audio{audio_counter}\"\n",
        "            messages.append(f\"Downloading audio from: {url} as {audio_filename}\")\n",
        "\n",
        "            # Download audio\n",
        "            try:\n",
        "                yt_dlp_command = f\"yt-dlp -x -o {audio_filename} --force-overwrites {url}\"\n",
        "                subprocess.run(yt_dlp_command, shell=True, check=True)\n",
        "\n",
        "                messages.append(f\"Transcribing audio: {audio_filename}\")\n",
        "\n",
        "                # Run whisper\n",
        "                whisper_command = f\"whisper {audio_filename}.opus --model large\"\n",
        "                result = subprocess.run(whisper_command, shell=True, capture_output=True, text=True)\n",
        "\n",
        "                # Save result to file\n",
        "                with open(f\"transcription{audio_counter}.txt\", \"w\") as f:\n",
        "                    f.write(result.stdout)\n",
        "\n",
        "                messages.append(f\"Transcription completed: transcription{audio_counter}.txt\")\n",
        "\n",
        "                audio_counter += 1  # Increment counter for the next file\n",
        "            except Exception as e:\n",
        "                messages.append(f\"Failed to process {url}: {str(e)}\")\n",
        "            finally:\n",
        "                # Output messages for each step\n",
        "                yield \"\\n\".join(messages)\n",
        "\n",
        "def interface_function(urls):\n",
        "    return \"\\n\".join(download_and_transcribe(urls))\n",
        "\n",
        "with gr.Blocks() as app:\n",
        "    with gr.Row():\n",
        "        text_area = gr.Textbox(lines=7, placeholder=\"Enter YouTube URLs separated by new lines\", label=\"YouTube URLs\")\n",
        "        button = gr.Button(\"Process URLs\")\n",
        "    output_text = gr.Textbox(label=\"Process Output\", interactive=True, lines=10)\n",
        "\n",
        "    button.click(\n",
        "        fn=interface_function,\n",
        "        inputs=text_area,\n",
        "        outputs=output_text\n",
        "    )\n",
        "\n",
        "app.launch()\n"
      ],
      "metadata": {
        "id": "vJEJq5t_YZUp"
      },
      "execution_count": null,
      "outputs": []
    }
  ],
  "metadata": {
    "accelerator": "GPU",
    "colab": {
      "provenance": []
    },
    "kernelspec": {
      "display_name": "Python 3",
      "name": "python3"
    }
  },
  "nbformat": 4,
  "nbformat_minor": 0
}