{
  "nbformat": 4,
  "nbformat_minor": 0,
  "metadata": {
    "colab": {
      "provenance": [],
      "gpuType": "T4"
    },
    "kernelspec": {
      "name": "python3",
      "display_name": "Python 3"
    },
    "language_info": {
      "name": "python"
    },
    "accelerator": "GPU"
  },
  "cells": [
    {
      "cell_type": "code",
      "source": [
        "# @title auto-lyrics\n",
        "# Install necessary packages\n",
        "!pip install yt-dlp\n",
        "!pip install git+https://github.com/openai/whisper.git\n",
        "\n",
        "import subprocess\n",
        "from IPython.display import display, clear_output\n",
        "import ipywidgets as widgets\n",
        "from google.colab import output  # Ensure this import is included\n",
        "\n",
        "def download_and_transcribe(urls):\n",
        "    urls = urls.strip().split('\\n')\n",
        "    for i, url in enumerate(urls, 1):\n",
        "        if url.strip():\n",
        "            audio_file = f\"audio_{i}\"\n",
        "            print(f\"Downloading audio from: {url}\")\n",
        "            # Download the audio using yt-dlp\n",
        "            yt_dlp_command = f\"yt-dlp -x -o '{audio_file}.%(ext)s' --force-overwrites '{url}'\"\n",
        "            subprocess.run(yt_dlp_command, shell=True, check=True)\n",
        "            print(f\"Transcribing audio: {audio_file}.opus\")\n",
        "            # Transcribe the audio using Whisper via subprocess\n",
        "            whisper_command = f\"whisper {audio_file}.opus --model large\"\n",
        "            result = subprocess.run(whisper_command, shell=True, capture_output=True, text=True)\n",
        "            transcription = result.stdout\n",
        "            # Check if transcription needs decoding\n",
        "            if isinstance(transcription, bytes):\n",
        "                transcription = transcription.decode('utf-8')\n",
        "            # Print and optionally save the transcription\n",
        "            print(f\"Transcription for {url}: {transcription}\\n\")\n",
        "            with open(f\"transcription_{i}.txt\", \"w\") as f:\n",
        "                f.write(transcription)\n",
        "\n",
        "# Create text area widget for input\n",
        "clear_output(wait=True)\n",
        "text_area = widgets.Textarea(\n",
        "    value='',\n",
        "    placeholder='Enter YouTube URLs separated by new lines',\n",
        "    description='URLs:',\n",
        "    layout={'width': '100%', 'height': '200px'}\n",
        ")\n",
        "\n",
        "# Create a button to trigger processing\n",
        "process_button = widgets.Button(description=\"Process URLs\")\n",
        "\n",
        "# Set the button's on-click event to process the URLs\n",
        "def on_button_clicked(b):\n",
        "    with output.use_tags('output'):\n",
        "        clear_output(wait=True)\n",
        "        download_and_transcribe(text_area.value)\n",
        "\n",
        "process_button.on_click(on_button_clicked)\n",
        "\n",
        "# Display the widgets\n",
        "display(text_area, process_button)\n"
      ],
      "metadata": {
        "cellView": "form",
        "id": "F9m8w-qoFfFA"
      },
      "execution_count": null,
      "outputs": []
    }
  ]
}