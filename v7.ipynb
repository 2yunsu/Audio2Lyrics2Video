{
  "nbformat": 4,
  "nbformat_minor": 0,
  "metadata": {
    "colab": {
      "provenance": [],
      "gpuType": "T4",
      "private_outputs": true,
      "cell_execution_strategy": "setup"
    },
    "kernelspec": {
      "name": "python3",
      "display_name": "Python 3"
    },
    "language_info": {
      "name": "python"
    },
    "accelerator": "GPU"
  },
  "cells": [
    {
      "cell_type": "code",
      "source": [
        "# @title Auto-Lyrics v7\n",
        "# Install necessary packages\n",
        "!pip install yt-dlp\n",
        "!pip install git+https://github.com/openai/whisper.git\n",
        "\n",
        "import subprocess\n",
        "import sys\n",
        "from IPython.display import display, clear_output\n",
        "import ipywidgets as widgets\n",
        "from google.colab import output\n",
        "\n",
        "def run_command(command):\n",
        "    \"\"\"Run a shell command and yield output lines in real-time.\"\"\"\n",
        "    process = subprocess.Popen(command, shell=True, stdout=subprocess.PIPE, stderr=subprocess.STDOUT, text=True)\n",
        "    for line in process.stdout:\n",
        "        print(line, end='')\n",
        "        sys.stdout.flush()  # Flush the output to force it to appear in the Colab cell\n",
        "    process.wait()\n",
        "\n",
        "def download_and_transcribe(urls):\n",
        "    urls = urls.strip().split('\\n')\n",
        "    for i, url in enumerate(urls, 1):\n",
        "        if url.strip():\n",
        "            audio_file = f\"audio_{i}\"\n",
        "            print(f\"Downloading audio from: {url}\")\n",
        "            yt_dlp_command = f\"yt-dlp -x -o '{audio_file}.%(ext)s' --force-overwrites '{url}'\"\n",
        "            subprocess.run(yt_dlp_command, shell=True, check=True)\n",
        "\n",
        "            print(f\"Transcribing audio: {audio_file}.opus\")\n",
        "            whisper_command = f\"whisper {audio_file}.opus --model large\"\n",
        "            run_command(whisper_command)\n",
        "\n",
        "            transcription_file = f\"transcription_{i}.txt\"\n",
        "            print(f\"Transcription completed and saved to {transcription_file}\\n\")\n",
        "\n",
        "# Clear the output\n",
        "clear_output(wait=True)\n",
        "\n",
        "# Create text area widget for input\n",
        "text_area = widgets.Textarea(\n",
        "    value='',\n",
        "    placeholder='Enter YouTube URLs separated by new lines',\n",
        "    description='URLs:',\n",
        "    layout={'width': '100%', 'height': '200px'}\n",
        ")\n",
        "\n",
        "# Create a button to trigger processing\n",
        "process_button = widgets.Button(description=\"Process URLs\")\n",
        "\n",
        "# Set the button's on-click event to process the URLs\n",
        "def on_button_clicked(b):\n",
        "    with output.use_tags('output'):\n",
        "        clear_output(wait=True)\n",
        "        download_and_transcribe(text_area.value)\n",
        "\n",
        "process_button.on_click(on_button_clicked)\n",
        "\n",
        "# Display the widgets\n",
        "display(text_area, process_button)\n"
      ],
      "metadata": {
        "cellView": "form",
        "id": "F9m8w-qoFfFA"
      },
      "execution_count": null,
      "outputs": []
    }
  ]
}