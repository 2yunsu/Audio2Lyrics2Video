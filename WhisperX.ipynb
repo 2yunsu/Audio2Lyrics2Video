{
  "cells": [
    {
      "cell_type": "markdown",
      "metadata": {
        "id": "view-in-github",
        "colab_type": "text"
      },
      "source": [
        "<a href=\"https://colab.research.google.com/github/ras0k/auto-lyrics/blob/main/WhisperX.ipynb\" target=\"_parent\"><img src=\"https://colab.research.google.com/assets/colab-badge.svg\" alt=\"Open In Colab\"/></a>"
      ]
    },
    {
      "cell_type": "code",
      "execution_count": null,
      "metadata": {
        "colab": {
          "background_save": true
        },
        "id": "at3jttAMouzL"
      },
      "outputs": [],
      "source": [
        "!pip install git+https://github.com/m-bain/whisperx.git\n"
      ]
    },
    {
      "cell_type": "code",
      "execution_count": null,
      "metadata": {
        "id": "uo-jv_C0o8fr",
        "colab": {
          "base_uri": "https://localhost:8080/"
        },
        "outputId": "5f6da56c-7afc-4909-e7f0-f68ed6c80498"
      },
      "outputs": [
        {
          "output_type": "stream",
          "name": "stdout",
          "text": [
            "Downloading: \"https://download.pytorch.org/torchaudio/models/wav2vec2_fairseq_large_lv60k_asr_ls960.pth\" to /root/.cache/torch/hub/checkpoints/wav2vec2_fairseq_large_lv60k_asr_ls960.pth\n",
            "100% 1.18G/1.18G [00:06<00:00, 192MB/s]\n",
            "Traceback (most recent call last):\n",
            "  File \"/usr/local/bin/whisperx\", line 8, in <module>\n",
            "    sys.exit(cli())\n",
            "  File \"/usr/local/lib/python3.9/dist-packages/whisperx/transcribe.py\", line 681, in cli\n",
            "    align_model, align_metadata = load_align_model(align_language, device, model_name=align_model)\n",
            "  File \"/usr/local/lib/python3.9/dist-packages/whisperx/alignment.py\", line 58, in load_align_model\n",
            "    align_model = bundle.get_model().to(device)\n",
            "  File \"/usr/local/lib/python3.9/dist-packages/torchaudio/pipelines/_wav2vec2/impl.py\", line 73, in get_model\n",
            "    model.load_state_dict(self._get_state_dict(dl_kwargs))\n",
            "  File \"/usr/local/lib/python3.9/dist-packages/torch/nn/modules/module.py\", line 1657, in load_state_dict\n",
            "    load(self, state_dict)\n",
            "  File \"/usr/local/lib/python3.9/dist-packages/torch/nn/modules/module.py\", line 1645, in load\n",
            "    load(child, child_state_dict, child_prefix)\n",
            "  File \"/usr/local/lib/python3.9/dist-packages/torch/nn/modules/module.py\", line 1645, in load\n",
            "    load(child, child_state_dict, child_prefix)\n",
            "  File \"/usr/local/lib/python3.9/dist-packages/torch/nn/modules/module.py\", line 1645, in load\n",
            "    load(child, child_state_dict, child_prefix)\n",
            "  [Previous line repeated 3 more times]\n",
            "  File \"/usr/local/lib/python3.9/dist-packages/torch/nn/modules/module.py\", line 1639, in load\n",
            "    module._load_from_state_dict(\n",
            "  File \"/usr/local/lib/python3.9/dist-packages/torch/nn/modules/module.py\", line 1572, in _load_from_state_dict\n",
            "    param.copy_(input_param)\n",
            "KeyboardInterrupt\n",
            "^C\n"
          ]
        }
      ],
      "source": [
        "!whisperx --model large --language fr vra3.mp3"
      ]
    }
  ],
  "metadata": {
    "accelerator": "GPU",
    "colab": {
      "provenance": [],
      "mount_file_id": "1p_VZ7aQBmcSjY7ifpOy14EiQ9E2mjAoZ",
      "authorship_tag": "ABX9TyMVK2LP3S2JogB6jyMCrY0y",
      "include_colab_link": true
    },
    "gpuClass": "standard",
    "kernelspec": {
      "display_name": "Python 3",
      "name": "python3"
    },
    "language_info": {
      "name": "python"
    }
  },
  "nbformat": 4,
  "nbformat_minor": 0
}