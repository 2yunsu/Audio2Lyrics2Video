{
  "cells": [
    {
      "cell_type": "markdown",
      "metadata": {
        "id": "view-in-github",
        "colab_type": "text"
      },
      "source": [
        "<a href=\"https://colab.research.google.com/github/ras0k/auto-lyrics/blob/main/WhisperX.ipynb\" target=\"_parent\"><img src=\"https://colab.research.google.com/assets/colab-badge.svg\" alt=\"Open In Colab\"/></a>\n",
        "\n",
        "This notebook demonstrates how to use the WhisperX library for audio transcription. We recommend using a Colab with a GPU runtime for better performance."
      ]
    },
    {
      "cell_type": "code",
      "execution_count": null,
      "metadata": {
        "colab": {
          "background_save": true
        },
        "id": "at3jttAMouzL"
      },
      "outputs": [],
      "source": [
        "# Install the WhisperX library from GitHub\n",
        "!pip install git+https://github.com/m-bain/whisperx.git\n"
      ]
    },
    {
      "cell_type": "code",
      "execution_count": null,
      "metadata": {
        "id": "uo-jv_C0o8fr"
      },
      "outputs": [],
      "source": [
        "# Transcribe the audio file 'audio.mp3' using the large model and French language\n",
        "!whisperx --model large --language fr audio.mp3"
      ]
    }
  ],
  "metadata": {
    "accelerator": "GPU",
    "colab": {
      "provenance": [],
      "mount_file_id": "1p_VZ7aQBmcSjY7ifpOy14EiQ9E2mjAoZ",
      "authorship_tag": "ABX9TyMVK2LP3S2JogB6jyMCrY0y",
      "include_colab_link": true
    },
    "gpuClass": "standard",
    "kernelspec": {
      "display_name": "Python 3",
      "name": "python3"
    },
    "language_info": {
      "name": "python"
    }
  },
  "nbformat": 4,
  "nbformat_minor": 0
}
