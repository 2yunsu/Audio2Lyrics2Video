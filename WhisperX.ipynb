{
  "cells": [
    {
      "cell_type": "markdown",
      "metadata": {
        "id": "view-in-github",
        "colab_type": "text"
      },
      "source": [
        "<a href=\"https://colab.research.google.com/github/ras0k/auto-lyrics/blob/main/WhisperX.ipynb\" target=\"_parent\"><img src=\"https://colab.research.google.com/assets/colab-badge.svg\" alt=\"Open In Colab\"/></a>"
      ]
    },
    {
      "cell_type": "code",
      "execution_count": null,
      "metadata": {
        "colab": {
          "background_save": true
        },
        "id": "at3jttAMouzL"
      },
      "outputs": [],
      "source": [
        "!pip install git+https://github.com/m-bain/whisperx.git\n"
      ]
    },
    {
      "cell_type": "code",
      "execution_count": null,
      "metadata": {
        "id": "uo-jv_C0o8fr",
        "colab": {
          "base_uri": "https://localhost:8080/"
        },
        "outputId": "5f6da56c-7afc-4909-e7f0-f68ed6c80498"
      },
      ],
      "source": [
        "!whisperx --model large --language fr audio.mp3"
      ]
    }
  ],
  "metadata": {
    "accelerator": "GPU",
    "colab": {
      "provenance": [],
      "mount_file_id": "1p_VZ7aQBmcSjY7ifpOy14EiQ9E2mjAoZ",
      "authorship_tag": "ABX9TyMVK2LP3S2JogB6jyMCrY0y",
      "include_colab_link": true
    },
    "gpuClass": "standard",
    "kernelspec": {
      "display_name": "Python 3",
      "name": "python3"
    },
    "language_info": {
      "name": "python"
    }
  },
  "nbformat": 4,
  "nbformat_minor": 0
}
