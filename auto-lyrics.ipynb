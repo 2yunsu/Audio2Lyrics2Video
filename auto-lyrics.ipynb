{
  "cells": [
    {
      "cell_type": "markdown",
      "metadata": {
        "id": "view-in-github",{
  "cells": [
    {
      "cell_type": "markdown",
      "metadata": {},
      "source": [
        "# WhisperX Audio Transcription with Gradio\n",
        "\n",
        "This notebook demonstrates how to use the WhisperX library for audio transcription with a Gradio interface. It takes a YouTube URL as input and transcribes the audio in French or English. We recommend using a Colab with a GPU runtime for better performance."
      ]
    },
    {
      "cell_type": "code",
      "metadata": {},
      "source": [
        "# Install required libraries\n",
        "!pip install git+https://github.com/m-bain/whisperx.git\n",
        "!pip install youtube_dl\n",
        "!pip install gradio"
      ]
    },
    {
      "cell_type": "code",
      "metadata": {},
      "source": [
        "# Import libraries\n",
        "import youtube_dl\n",
        "import gradio as gr\n",
        "from whisperx import transcribe"
      ]
    },
    {
      "cell_type": "code",
      "metadata": {},
      "source": [
        "# Function to download MP3 from a YouTube URL\n",
        "def download_mp3_from_youtube(url, output_folder=\"\"):\n",
        "    ydl_opts = {\n",
        "        'format': 'bestaudio/best',\n",
        "        'postprocessors': [{\n",
        "            'key': 'FFmpegExtractAudio',\n",
        "            'preferredcodec': 'mp3',\n",
        "            'preferredquality': '192',\n",
        "        }],\n",
        "        'outtmpl': f'{output_folder}/%(title)s.%(ext)s',\n",
        "    }\n",
        "\n",
        "    with youtube_dl.YoutubeDL(ydl_opts) as ydl:\n",
        "        ydl.download([url])"
      ]
    },
    {
      "cell_type": "code",
      "metadata": {},
      "source": [
        "# Function to transcribe the downloaded audio\n",
        "def transcribe_audio(youtube_url, model=\"large\", language=\"fr\"):\n",
        "    download_mp3_from_youtube(youtube_url)\n",
        "    output_file = \"audio.mp3\"\n",
        "    transcription = transcribe(output_file, model=model, lang=language)\n",
        "    return transcription"
      ]
    },
    {
      "cell_type": "code",
      "metadata": {},
      "source": [
        "# Create a Gradio interface\n",
        "iface = gr.Interface(\n",
        "    fn=transcribe_audio,\n",
        "    inputs=[\"text\", gr.inputs.Radio([\"large\", \"small\"]), gr.inputs.Radio([\"fr\", \"en\"])],\n",
        "    outputs=\"text\",\n",
        "    title=\"WhisperX Audio Transcription\",\n",
        "    description=\"Transcribe audio from a YouTube URL using WhisperX.\"\n",
        ")\n",
        "\n",
        "iface.launch()"
      ]
    }
  ],
  "metadata": {
    "kernelspec": {
      "display_name": "Python 3",
      "language": "python",
      "name": "python3"
    },
    "language_info": {
      "codemirror_mode": {
        "name": "ipython",
        "version": 3
      },
      "

        "colab_type": "text"
      },
      "source": [
        "<a href=\"https://colab.research.google.com/github/ras0k/auto-lyrics/blob/main/WhisperX.ipynb\" target=\"_parent\"><img src=\"https://colab.research.google.com/assets/colab-badge.svg\" alt=\"Open In Colab\"/></a>\n",
        "\n",
        "This notebook demonstrates how to use the WhisperX library for audio transcription. We recommend using a Colab with a GPU runtime for better performance."
      ]
    },
    {
      "cell_type": "code",
      "execution_count": null,
      "metadata": {
        "colab": {
          "background_save": true
        },
        "id": "at3jttAMouzL"
      },
      "outputs": [],
      "source": [
        "# Install the WhisperX library from GitHub\n",
        "!pip install git+https://github.com/m-bain/whisperx.git\n"
      ]
    },
    {
      "cell_type": "code",
      "execution_count": null,
      "metadata": {
        "id": "uo-jv_C0o8fr"
      },
      "outputs": [],
      "source": [
        "# Transcribe the audio file 'audio.mp3' using the large model and French language\n",
        "!whisperx --model large --language fr audio.mp3"
      ]
    }
  ],
  "metadata": {
    "accelerator": "GPU",
    "colab": {
      "provenance": [],
      "mount_file_id": "1p_VZ7aQBmcSjY7ifpOy14EiQ9E2mjAoZ",
      "authorship_tag": "ABX9TyMVK2LP3S2JogB6jyMCrY0y",
      "include_colab_link": true
    },
    "gpuClass": "standard",
    "kernelspec": {
      "display_name": "Python 3",
      "name": "python3"
    },
    "language_info": {
      "name": "python"
    }
  },
  "nbformat": 4,
  "nbformat_minor": 0,
   
}
